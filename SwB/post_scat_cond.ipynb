{
 "cells": [
  {
   "cell_type": "markdown",
   "metadata": {},
   "source": [
    "#Zhen Lu 2018/07/15\n",
    "#post-Processing of the sampled data, take conditional average with respect to\n",
    "#the mixture fraction"
   ]
  },
  {
   "cell_type": "code",
   "execution_count": 1,
   "metadata": {},
   "outputs": [],
   "source": [
    "import glob\n",
    "import numpy as np\n",
    "import pandas as pd"
   ]
  },
  {
   "cell_type": "code",
   "execution_count": 2,
   "metadata": {},
   "outputs": [],
   "source": [
    "# pick the latest time automatically\n",
    "calc_time=[]\n",
    "for filename in glob.glob('surfaces/*'):\n",
    "    calc_time.append(float(filename[9:]))\n",
    "time=str(max(calc_time))\n",
    "\n",
    "# extract variable and location names\n",
    "var_names = []\n",
    "loc_names = []\n",
    "foldername = 'surfaces/{t}/'.format(t=time)\n",
    "str_mean = 'Mean'\n",
    "str_loc = '_z'\n",
    "# variables\n",
    "for filename in glob.glob('{0}*.raw'.format(foldername)):\n",
    "    if str_mean not in filename and str_loc in filename:\n",
    "        var_names.append(filename[len(foldername):filename.find(str_loc)])\n",
    "var_names=list(set(var_names))\n",
    "# must have mixture fraction Z\n",
    "if 'Z' not in var_names:\n",
    "    raise RuntimeError\n",
    "for filename in glob.glob('{0}{1}{2}*.raw'.format(foldername,'Z',str_loc)):\n",
    "    loc_names.append(filename[filename.find(str_loc)+len(str_loc):filename.find('.raw')])"
   ]
  },
  {
   "cell_type": "code",
   "execution_count": 3,
   "metadata": {},
   "outputs": [],
   "source": [
    "num_bins_0 = 40\n",
    "num_bins_1 = 40\n",
    "Z_bins = np.concatenate((np.arange(0,0.2,0.2/float(num_bins_0)),\n",
    "                         np.arange(0.2,1,0.8/float(num_bins_1)),\n",
    "                         [1,]))\n",
    "Z_mids = (Z_bins[1:] + Z_bins[:-1])/2"
   ]
  },
  {
   "cell_type": "code",
   "execution_count": 4,
   "metadata": {},
   "outputs": [],
   "source": [
    "for loc in loc_names:\n",
    "    # sample region\n",
    "    r_limit = 0.04\n",
    "    if int(loc) < 40:\n",
    "        r_limit = 13.6 + (28-13.6)*float(loc)/40.\n",
    "    # read coordinates\n",
    "    filename = '{0}Z_z{1}.raw'.format(foldername,loc)\n",
    "    data = np.genfromtxt(filename,skip_header=2,usecols=(0,1))\n",
    "    # calculate radius\n",
    "    r = np.sqrt(np.sum(np.square(data),axis=1))\n",
    "    \n",
    "    nrows = np.sum( r<r_limit )\n",
    "    ncols = len(var_names)\n",
    "    \n",
    "    data_scat = np.zeros((nrows,ncols))\n",
    "    data_scat_all = np.zeros((1,ncols))\n",
    "\n",
    "    # loop over time\n",
    "    for time in calc_time:\n",
    "        foldername = 'surfaces/{}/'.format(time)\n",
    "        \n",
    "        for i, var in enumerate(var_names):\n",
    "            filename = '{0}{1}_z{2}.raw'.format(foldername,var,loc)\n",
    "            data = np.genfromtxt(filename,skip_header=2,usecols=(3,))\n",
    "            # guarantee all value positive\n",
    "            data[ data < 0 ] = 0\n",
    "            data_scat[:,i] = data[ r < r_limit ]\n",
    "\n",
    "        np.savetxt('{0}scat_z{1}.csv'.format(foldername,loc),\n",
    "                   data_scat,\n",
    "                   fmt='%15.6e',\n",
    "                   delimiter=',',\n",
    "                   header=','.join(var_names),\n",
    "                   comments='')\n",
    "        \n",
    "        data_scat_all = np.concatenate((data_scat_all,data_scat))\n",
    "    \n",
    "    data_scat_all = np.delete(data_scat_all,0,0)\n",
    "    \n",
    "    df_tmp = pd.DataFrame(data_scat_all,columns=var_names)\n",
    "    df = df_tmp.groupby(np.digitize(df_tmp['Z'],Z_bins,right=True)).mean()\n",
    "    df.to_csv('cond_z{}.csv'.format(loc),\n",
    "              index=False,\n",
    "              float_format='%15.6e')"
   ]
  }
 ],
 "metadata": {
  "kernelspec": {
   "display_name": "Python 3",
   "language": "python",
   "name": "python3"
  },
  "language_info": {
   "codemirror_mode": {
    "name": "ipython",
    "version": 3
   },
   "file_extension": ".py",
   "mimetype": "text/x-python",
   "name": "python",
   "nbconvert_exporter": "python",
   "pygments_lexer": "ipython3",
   "version": "3.6.4"
  }
 },
 "nbformat": 4,
 "nbformat_minor": 2
}
