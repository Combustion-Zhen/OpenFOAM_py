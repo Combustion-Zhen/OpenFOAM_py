{
 "cells": [
  {
   "cell_type": "code",
   "execution_count": 1,
   "metadata": {},
   "outputs": [],
   "source": [
    "import numpy as np\n",
    "import glob\n",
    "import matplotlib as mpl\n",
    "#mpl.use('Agg')\n",
    "import matplotlib.pyplot as plt\n",
    "\n",
    "# cm inch transfer for matplotlib\n",
    "def cm2inch(*tupl):\n",
    "    inch = 2.54\n",
    "    return tuple(i/inch for i in tupl)"
   ]
  },
  {
   "cell_type": "code",
   "execution_count": 2,
   "metadata": {},
   "outputs": [],
   "source": [
    "# cases\n",
    "cases = np.array([4, 8, 10, 20])\n",
    "locs = np.array([70, 50, 30, 20, 10])\n",
    "folderNamePrefix = 'SwBd_Dq56_44M_FLAMELET_LUST_Linear_Sct07_FUEL'"
   ]
  },
  {
   "cell_type": "code",
   "execution_count": 3,
   "metadata": {},
   "outputs": [],
   "source": [
    "# plot\n",
    "# figure and axes parameters\n",
    "# total width is fixed\n",
    "plot_width      =19.0\n",
    "margin_left     =1.4\n",
    "margin_right    =0.3\n",
    "margin_bottom   =1.2\n",
    "margin_top      =0.7\n",
    "space_width     =0.3\n",
    "space_height    =0.3\n",
    "ftsize          =11\n",
    "\n",
    "font = {'family':'serif',\n",
    "        'weight':'normal',\n",
    "        'size':ftsize}\n",
    "\n",
    "# use TEX for interpreter\n",
    "plt.rc('text',usetex=True)\n",
    "plt.rc('text.latex', preamble=[r'\\usepackage{amsmath}',r'\\usepackage{bm}'])\n",
    "# use serif font\n",
    "plt.rc('font',**font)\n",
    "\n",
    "ncols = cases.size\n",
    "nrows = locs.size\n",
    "\n",
    "subplot_width = (plot_width\n",
    "                -margin_left\n",
    "                -margin_right\n",
    "                -(ncols-1)*space_width)/ncols\n",
    "subplot_height = subplot_width * 0.4\n",
    "\n",
    "plot_height = (nrows*subplot_height\n",
    "              +margin_bottom\n",
    "              +margin_top\n",
    "              +(nrows-1)*space_height)"
   ]
  },
  {
   "cell_type": "code",
   "execution_count": 10,
   "metadata": {},
   "outputs": [
    {
     "data": {
      "image/png": "[encoded data removed]",
      "text/plain": [
       "<Figure size 538.583x320.315 with 20 Axes>"
      ]
     },
     "metadata": {
      "needs_background": "light"
     },
     "output_type": "display_data"
    }
   ],
   "source": [
    "fig, ax = plt.subplots( nrows, ncols, sharex = True, sharey = True,\n",
    "                        figsize = cm2inch( plot_width, plot_height ) )\n",
    "\n",
    "for i, case in enumerate(cases):\n",
    "        \n",
    "    for j, loc in enumerate(locs):\n",
    "        \n",
    "        filename = '{}{:d}/sample_lines/z{:d}.csv'.format(folderNamePrefix, case, loc)\n",
    "        data = np.genfromtxt(filename, delimiter=',', names=True)\n",
    "        \n",
    "        r = data['Points0']*1000\n",
    "        v = data['ZMean_average']\n",
    "        \n",
    "        #ax[j,i].plot(r, v, 'r-', lw=1)\n",
    "        \n",
    "        v = data['ZPrime2Mean_average']\n",
    "        ax[j,i].plot(r, v, 'b-.', lw=1)\n",
    "        \n",
    "        v = data['chiMean_average']\n",
    "        #ax[j,i].plot(r, v, 'k--', lw=1)\n",
    "        \n",
    "    ax[0,i].set_title('{:d} SLPM'.format(case))\n",
    "    ax[-1,i].set_xticks(np.linspace(0,40,num=5))\n",
    "    ax[-1,i].set_xlabel(r'$r\\;(\\mathrm{mm})$')\n",
    "    \n",
    "for j, loc in enumerate(locs):\n",
    "    #ax[j,0].set_yticks(np.linspace(0,20,num=3))\n",
    "    #ax[j,0].set_ylabel(r'$\\langle\\widetilde{u_z}\\rangle\\;(\\mathrm{m/s})$')\n",
    "    ax[j,-1].text(21,0.,'z={:d} mm'.format(loc))\n",
    "        \n",
    "#ax[0,0].legend(ncol=2, columnspacing=0.4, frameon=False)\n",
    "ax[0,0].set_xlim([ 0, 40])\n",
    "#ax[0,0].set_ylim([0, .05])\n",
    "    \n",
    "fig.subplots_adjust(\n",
    "        left = margin_left/plot_width,\n",
    "        bottom = margin_bottom/plot_height,\n",
    "        right = 1.0-margin_right/plot_width,\n",
    "        top = 1.0-margin_top/plot_height,\n",
    "        wspace = space_width/subplot_width,\n",
    "        hspace = space_height/subplot_height\n",
    "        )"
   ]
  },
  {
   "cell_type": "code",
   "execution_count": null,
   "metadata": {},
   "outputs": [],
   "source": []
  }
 ],
 "metadata": {
  "kernelspec": {
   "display_name": "Python 3",
   "language": "python",
   "name": "python3"
  },
  "language_info": {
   "codemirror_mode": {
    "name": "ipython",
    "version": 3
   },
   "file_extension": ".py",
   "mimetype": "text/x-python",
   "name": "python",
   "nbconvert_exporter": "python",
   "pygments_lexer": "ipython3",
   "version": "3.6.6"
  }
 },
 "nbformat": 4,
 "nbformat_minor": 2
}
