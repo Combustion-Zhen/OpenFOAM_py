{
 "cells": [
  {
   "cell_type": "code",
   "execution_count": 1,
   "metadata": {},
   "outputs": [],
   "source": [
    "# clip and save data in certain region"
   ]
  },
  {
   "cell_type": "code",
   "execution_count": 1,
   "metadata": {},
   "outputs": [],
   "source": [
    "import numpy as np"
   ]
  },
  {
   "cell_type": "code",
   "execution_count": 2,
   "metadata": {},
   "outputs": [],
   "source": [
    "file_prefix = 'clip_POD0'\n",
    "file_suffix = 'csv'\n",
    "file_number = 2"
   ]
  },
  {
   "cell_type": "code",
   "execution_count": 3,
   "metadata": {},
   "outputs": [],
   "source": [
    "file_name = 'clip_POD_ave0.csv'\n",
    "data = np.genfromtxt(file_name, names=True, delimiter=',')\n",
    "\n",
    "z = data['Points2']\n",
    "r = np.sqrt( np.square( data['Points0'] ) + np.square( data['Points1'] ) )"
   ]
  },
  {
   "cell_type": "code",
   "execution_count": 4,
   "metadata": {},
   "outputs": [],
   "source": [
    "region = np.any( np.array([ z >= 0.04, r <= (13.6+14.4*z/0.04)/1000. ]), axis = 0 )"
   ]
  },
  {
   "cell_type": "code",
   "execution_count": 5,
   "metadata": {},
   "outputs": [],
   "source": [
    "data_len = sum(region)"
   ]
  },
  {
   "cell_type": "code",
   "execution_count": 6,
   "metadata": {},
   "outputs": [],
   "source": [
    "data_ave = np.empty([data_len, 3])"
   ]
  },
  {
   "cell_type": "code",
   "execution_count": 7,
   "metadata": {},
   "outputs": [],
   "source": [
    "for j in range(3):\n",
    "    data_ave[:,j] = data['U_average{:d}'.format(j)][region]"
   ]
  },
  {
   "cell_type": "code",
   "execution_count": 8,
   "metadata": {},
   "outputs": [],
   "source": [
    "np.savetxt('POD_ave.csv',\n",
    "           data_ave,\n",
    "           fmt='%10.5f',\n",
    "           delimiter=','\n",
    "          )"
   ]
  },
  {
   "cell_type": "code",
   "execution_count": 10,
   "metadata": {},
   "outputs": [],
   "source": [
    "data = np.empty([data_len,3])\n",
    "for i in range(file_number):\n",
    "    file_name = '.'.join([file_prefix,'{:d}'.format(i),file_suffix])\n",
    "    data_clip = np.genfromtxt(file_name, names=True, delimiter=',')\n",
    "    for j in range(3):\n",
    "        data[:,j] = data_clip['U{:d}'.format(j)][region]\n",
    "    data -= data_ave\n",
    "    np.savetxt('.'.join(['POD_data','{:d}'.format(i),file_suffix]),\n",
    "               data,\n",
    "               fmt='%10.5f',\n",
    "               delimiter=','\n",
    "              )"
   ]
  }
 ],
 "metadata": {
  "kernelspec": {
   "display_name": "Python 3",
   "language": "python",
   "name": "python3"
  },
  "language_info": {
   "codemirror_mode": {
    "name": "ipython",
    "version": 3
   },
   "file_extension": ".py",
   "mimetype": "text/x-python",
   "name": "python",
   "nbconvert_exporter": "python",
   "pygments_lexer": "ipython3",
   "version": "3.6.6"
  }
 },
 "nbformat": 4,
 "nbformat_minor": 2
}
