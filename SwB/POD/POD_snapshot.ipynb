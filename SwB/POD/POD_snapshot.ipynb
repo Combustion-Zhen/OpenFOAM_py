{
 "cells": [
  {
   "cell_type": "code",
   "execution_count": 1,
   "metadata": {},
   "outputs": [],
   "source": [
    "# proper orthogonal decomposition with the snapshot implementation\n",
    "# Sirovich, 1987 and Taira et al., 2017"
   ]
  },
  {
   "cell_type": "code",
   "execution_count": 16,
   "metadata": {},
   "outputs": [],
   "source": [
    "import numpy as np\n",
    "from scipy import linalg"
   ]
  },
  {
   "cell_type": "code",
   "execution_count": 35,
   "metadata": {},
   "outputs": [],
   "source": [
    "file_prefix = 'POD_data'\n",
    "file_suffix = 'csv'\n",
    "file_number = 10\n",
    "mode_number = 7"
   ]
  },
  {
   "cell_type": "code",
   "execution_count": 4,
   "metadata": {},
   "outputs": [],
   "source": [
    "matrix_cov = np.empty((file_number, file_number))"
   ]
  },
  {
   "cell_type": "code",
   "execution_count": 14,
   "metadata": {},
   "outputs": [],
   "source": [
    "for i in range(file_number):\n",
    "    file_name = '.'.join([file_prefix,'{:d}'.format(i),file_suffix])\n",
    "    data_i = np.genfromtxt(file_name, delimiter=',')\n",
    "    \n",
    "    matrix_cov[i,i] = np.sum( np.square(data_i) )\n",
    "    \n",
    "    for j in range(i+1,file_number):\n",
    "        file_name = '.'.join([file_prefix,'{:d}'.format(j),file_suffix])\n",
    "        data_j = np.genfromtxt(file_name, delimiter=',')\n",
    "        \n",
    "        matrix_cov[i,j] = np.sum( np.multiply( data_i, data_j ) )\n",
    "        matrix_cov[j,i] = matrix_cov[i,j]"
   ]
  },
  {
   "cell_type": "code",
   "execution_count": 26,
   "metadata": {},
   "outputs": [],
   "source": [
    "e, v = linalg.eig(matrix_cov)"
   ]
  },
  {
   "cell_type": "code",
   "execution_count": 28,
   "metadata": {},
   "outputs": [],
   "source": [
    "eig = np.real(e)"
   ]
  },
  {
   "cell_type": "code",
   "execution_count": 30,
   "metadata": {},
   "outputs": [],
   "source": [
    "sigma = np.sqrt(eig)"
   ]
  },
  {
   "cell_type": "code",
   "execution_count": 47,
   "metadata": {},
   "outputs": [],
   "source": [
    "data_shape = data_j.shape\n",
    "data_size = data_j.size"
   ]
  },
  {
   "cell_type": "code",
   "execution_count": 52,
   "metadata": {},
   "outputs": [],
   "source": [
    "modes = np.zeros([data_size, mode_number])"
   ]
  },
  {
   "cell_type": "code",
   "execution_count": 53,
   "metadata": {
    "collapsed": true
   },
   "outputs": [],
   "source": [
    "for i in range(file_number):\n",
    "    file_name = '.'.join([file_prefix,'{:d}'.format(i),file_suffix])\n",
    "    data = np.genfromtxt(file_name, delimiter=',').flatten()\n",
    "    \n",
    "    for j in range(mode_number):\n",
    "        modes[:,j] += data*v[i,j]\n",
    "        \n",
    "for j in range(mode_number):\n",
    "    modes[:,j] /= sigma[j]"
   ]
  },
  {
   "cell_type": "code",
   "execution_count": 60,
   "metadata": {},
   "outputs": [],
   "source": [
    "# save the modes\n",
    "for j in range(mode_number):\n",
    "    file_name = '.'.join(['POD_mode','{:d}'.format(j),file_suffix])\n",
    "    np.savetxt(file_name,\n",
    "               modes[:,j].reshape(data_shape),\n",
    "               fmt='%12.5e',\n",
    "               delimiter=','\n",
    "              )"
   ]
  },
  {
   "cell_type": "code",
   "execution_count": 74,
   "metadata": {},
   "outputs": [],
   "source": [
    "# coefficients, eigenvalues, sigma, and the Vij of the first X modes\n",
    "data = np.concatenate((eig.reshape((-1,1)), sigma.reshape((-1,1)), v[:,:mode_number]),axis=1)"
   ]
  },
  {
   "cell_type": "code",
   "execution_count": 80,
   "metadata": {},
   "outputs": [],
   "source": [
    "var_names = [ 'V{:d}'.format(i) for i in range(mode_number) ]\n",
    "var_names.insert(0, 'sigma')\n",
    "var_names.insert(0, 'eigval')"
   ]
  },
  {
   "cell_type": "code",
   "execution_count": 81,
   "metadata": {},
   "outputs": [],
   "source": [
    "np.savetxt('POD_coef.csv',\n",
    "           data,\n",
    "           fmt = '%12.5e',\n",
    "           delimiter = ',',\n",
    "           header = ','.join(var_names),\n",
    "           comments = ''\n",
    "          )"
   ]
  }
 ],
 "metadata": {
  "kernelspec": {
   "display_name": "Python 3",
   "language": "python",
   "name": "python3"
  },
  "language_info": {
   "codemirror_mode": {
    "name": "ipython",
    "version": 3
   },
   "file_extension": ".py",
   "mimetype": "text/x-python",
   "name": "python",
   "nbconvert_exporter": "python",
   "pygments_lexer": "ipython3",
   "version": "3.6.6"
  }
 },
 "nbformat": 4,
 "nbformat_minor": 2
}
