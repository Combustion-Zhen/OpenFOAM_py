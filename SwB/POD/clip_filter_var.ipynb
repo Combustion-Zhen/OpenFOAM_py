{
 "cells": [
  {
   "cell_type": "code",
   "execution_count": null,
   "metadata": {},
   "outputs": [],
   "source": [
    "# data from shaheen/paraview include meanless variables\n",
    "# pick U, Z, p only"
   ]
  },
  {
   "cell_type": "code",
   "execution_count": 2,
   "metadata": {},
   "outputs": [],
   "source": [
    "import numpy as np"
   ]
  },
  {
   "cell_type": "code",
   "execution_count": 3,
   "metadata": {},
   "outputs": [],
   "source": [
    "file_prefix = 'clip_POD0'\n",
    "file_suffix = 'csv'\n",
    "file_number = 1\n",
    "\n",
    "var_names = ['U0', 'U1', 'U2', 'p', 'Z']\n",
    "names = ','.join(var_names)"
   ]
  },
  {
   "cell_type": "code",
   "execution_count": 4,
   "metadata": {},
   "outputs": [],
   "source": [
    "for i in range(file_number):\n",
    "    file_name = '.'.join([file_prefix,'{:d}'.format(i),file_suffix])\n",
    "    data_raw = np.genfromtxt(file_name, names=True, delimiter=',')\n",
    "    \n",
    "    data = np.empty((data_raw.size,len(var_names)))\n",
    "    for j, var in enumerate(var_names):\n",
    "        data[:,j] = data_raw[var]\n",
    "    \n",
    "    np.savetxt('.'.join([file_prefix,'{:d}'.format(i),file_suffix]),\n",
    "               data,\n",
    "               fmt='%10.5f',\n",
    "               delimiter=',',\n",
    "               header = names,\n",
    "               comments = ''\n",
    "              )"
   ]
  }
 ],
 "metadata": {
  "kernelspec": {
   "display_name": "Python 3",
   "language": "python",
   "name": "python3"
  },
  "language_info": {
   "codemirror_mode": {
    "name": "ipython",
    "version": 3
   },
   "file_extension": ".py",
   "mimetype": "text/x-python",
   "name": "python",
   "nbconvert_exporter": "python",
   "pygments_lexer": "ipython3",
   "version": "3.6.6"
  }
 },
 "nbformat": 4,
 "nbformat_minor": 2
}
